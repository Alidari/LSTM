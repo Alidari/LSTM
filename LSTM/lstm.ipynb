{
 "cells": [
  {
   "cell_type": "code",
   "execution_count": 1,
   "metadata": {},
   "outputs": [],
   "source": [
    "\n",
    "from keras_preprocessing.sequence import pad_sequences\n",
    "from keras.layers import Embedding, LSTM, Dense, Dropout\n",
    "from keras.preprocessing.text import Tokenizer\n",
    "from keras.callbacks import EarlyStopping\n",
    "from keras.models import Sequential\n",
    "import keras.utils as ku\n",
    "import matplotlib.pyplot as plt\n",
    "\n",
    "# set seeds for reproducability\n",
    "import tensorflow\n",
    "tensorflow.random.set_seed(2)\n",
    "from numpy.random import seed\n",
    "seed(1)\n",
    "\n",
    "import pandas as pd\n",
    "import numpy as np\n",
    "import string, os \n",
    "\n",
    "import warnings\n",
    "warnings.filterwarnings(\"ignore\")\n",
    "warnings.simplefilter(action='ignore', category=FutureWarning)\n"
   ]
  },
  {
   "cell_type": "code",
   "execution_count": 2,
   "metadata": {},
   "outputs": [
    {
     "name": "stdout",
     "output_type": "stream",
     "text": [
      "['bir uçak kalkıyor.', 'bir adam büyük bir flüt çalıyor.', 'bir adam pizzaya rendelenmiş peynir yayıyor.', 'üç adam satranç oynuyor.', 'bir adam çello çalıyor.', 'bazı adamlar kavga ediyor.', 'bir adam sigara içiyor.', 'adam piyano çalıyor.', 'bir adam gitar çalıyor ve şarkı söylüyor.', 'bir insan tavana kedi fırlatıyor.', 'adam diğer adama sopayla vurdu.', 'bir kadın alıp bir bebek kanguru tutuyor.', 'bir adam flüt çalıyor.', 'bir insan bir kağıt parçasını katlıyor.', 'yolda koşan bir adam var.', 'bir köpek sırtından pastırma çıkarmaya çalışıyor.', 'kutup ayısı karda kayıyor.', 'bir kadın yazıyor.', 'bir kedi bebeğin yüzüne sürtünerek gidiyor.', 'adam ata biniyor.', 'bir adam tencereye yağ döker.', 'bir adam gitar çalıyor.', 'bir panda kaydıraktan aşağı kayıyor.', 'bir kadın bir şeyler yiyor.', 'bir kadın patates soyuyor.', 'çocuk bisikletten düştü.', 'kadın flüt çalıyor.', 'bir tavşan kartaldan kaçıyor.', 'kadın ekmekli domuz pirzolası kızartıyor.', 'bir kız uçurtma uçursuyor.', 'bir adam mekanik boğaya biniyor.', 'adam gitar çalıyor.', 'bir kadın diğer kadınlarla dans ediyor ve şarkı söylüyor.', 'bir adam çörek dilimliyor.', 'bir adam tavaya yağ döküyor.', 'bir aslan insanlarla oynuyor.', 'bir köpek kaykaya biner.', 'birisi heykel oyuyor.', 'bir kadın soğanı dilimliyor.', 'bir kadın karides soyuyor.', 'bir kadın balık kızartıyor.', 'bir kadın elektro gitar çalıyor.', 'yavru bir kaplan topla oynuyor.', 'bir insan domatesi dilimliyor.', 'bir insan soğan keser.', 'bir adam piyano çalıyor.', 'bir kadın flüt çalıyor.', 'bir adam patates kesiyor.', 'bir çocuk gitar çalıyor.', 'bir çocuk gitar çalıyor.', 'bir adam gitar çalıyor.', 'küçük bir çocuk klavye çalıyor.', 'bir adam gitar çalıyor.', 'bir köpek bebeği yalar.', 'bir kadın soğanı dilimliyor.', 'bir adam gitar çalıyor.', 'bir kadın biberi dilimliyor.', 'bir adam davul çalıyor.', 'bir kadın ata biner.', 'bir adam ağacın yanında muz yiyor.', 'bir kedi anahtar tahtası oynuyor.', 'bir adam baltayla ağacı keser.', 'bir çocuk oyuncak telefonla oynuyor.', 'bir adam motosiklet kullanıyor.', 'bir adam motosiklet kullanıyor.', 'bir sincap daireler çiziyor.', 'bir erkek ve bir kadın öpüşüyor.', 'bir adam arabaya biniyor.', 'bir adam dans ediyor.', 'bir adam gitar çalıp şarkı söylüyor.', 'bir insan mantar kesiyor.', 'bir kaplan yavrusu ses çıkarıyor.', 'bir kişi soğan dilimliyor.', 'bir adam piyano çalıyor.', 'bir kadın patates soyuyor.', 'bir pankda bambu yiyor.', 'bir insan soğan soyuyor.', 'bir maymun başka bir maymunu itiyor.', 'bir sincap daireler çizerek dolaşır.', 'bir adam ayakkabısını bağlıyor.', 'bir çocuk şarkı söylüyor ve piyano çalıyor.', 'bir köpek su kavunu yiyor.', 'bir kadın brokoli kesiyor.', 'bir adam patates soyuyor.', 'bir kadın gitar çalıyor.', 'bir kadın domatesi dilimliyor.', 'bir adam suyun altında yüzüyor.', 'bir kadın ve bir erkek konuşuyor.', 'küçük bir köpek yoga toplarını kovalıyor.', 'adamlar kriket oynuyor.', 'bir adam motosikletle gidiyor.', 'bir adam gitar çalıyor.', 'adam telefonda konuştu.', 'bir adam balık tutuyor.', 'bir adam havalanıyor.', 'i̇ki çocuk kullanıyor.', 'bir adam ata biniyor.', 'bir adam bisiklete biniyor.', 'bir adam patates dilimliyor.', 'bir kadın patates soyuyor.']\n"
     ]
    }
   ],
   "source": [
    "curr_dir = './'\n",
    "all_headlines = []\n",
    "for filename in os.listdir(curr_dir):\n",
    "    if 'train' in filename:\n",
    "        article_df = pd.read_csv(curr_dir + filename)\n",
    "        all_headlines.extend(list(article_df.sentence1.values))\n",
    "        break\n",
    "\n",
    "all_headlines = [h for h in all_headlines if h != \"Unknown\"]\n",
    "len(all_headlines)\n",
    "\n",
    "def clean_text(txt):\n",
    "    # Diğer temizleme işlemleri\n",
    "    txt = txt.lower()\n",
    "    \n",
    "    # Türkçe karakterleri silmemek için\n",
    "    txt = ''.join(char if ord(char) < 128 or char.isspace() else char for char in txt)\n",
    "    \n",
    "    return txt\n",
    "\n",
    "corpus = [clean_text(x) for x in all_headlines]\n",
    "print(corpus[:100])\n",
    "\n",
    "\n"
   ]
  },
  {
   "cell_type": "code",
   "execution_count": 3,
   "metadata": {},
   "outputs": [
    {
     "name": "stdout",
     "output_type": "stream",
     "text": [
      "[[1, 149], [1, 149, 5104], [1, 3], [1, 3, 25], [1, 3, 25, 1], [1, 3, 25, 1, 294], [1, 3, 25, 1, 294, 20], [1, 3], [1, 3, 2971], [1, 3, 2971, 5105]]\n"
     ]
    }
   ],
   "source": [
    "tokenizer = Tokenizer()\n",
    "\n",
    "def get_sequence_of_tokens(corpus):\n",
    "    ## tokenization\n",
    "    tokenizer.fit_on_texts(corpus)\n",
    "    total_words = len(tokenizer.word_index) + 1\n",
    "    \n",
    "    ## convert data to sequence of tokens \n",
    "    input_sequences = []\n",
    "    for line in corpus:\n",
    "        token_list = tokenizer.texts_to_sequences([line])[0]\n",
    "        for i in range(1, len(token_list)):\n",
    "            n_gram_sequence = token_list[:i+1]\n",
    "            input_sequences.append(n_gram_sequence)\n",
    "    return input_sequences, total_words\n",
    "\n",
    "inp_sequences, total_words = get_sequence_of_tokens(corpus)\n",
    "print(inp_sequences[:10])"
   ]
  },
  {
   "cell_type": "code",
   "execution_count": 4,
   "metadata": {},
   "outputs": [
    {
     "name": "stdout",
     "output_type": "stream",
     "text": [
      "46\n",
      "Model: \"sequential\"\n",
      "_________________________________________________________________\n",
      " Layer (type)                Output Shape              Param #   \n",
      "=================================================================\n",
      " embedding (Embedding)       (None, 45, 10)            144010    \n",
      "                                                                 \n",
      " lstm (LSTM)                 (None, 100)               44400     \n",
      "                                                                 \n",
      " dropout (Dropout)           (None, 100)               0         \n",
      "                                                                 \n",
      " dense (Dense)               (None, 14401)             1454501   \n",
      "                                                                 \n",
      "=================================================================\n",
      "Total params: 1,642,911\n",
      "Trainable params: 1,642,911\n",
      "Non-trainable params: 0\n",
      "_________________________________________________________________\n"
     ]
    }
   ],
   "source": [
    "def generate_padded_sequences(input_sequences):\n",
    "    max_sequence_len = max([len(x) for x in input_sequences])\n",
    "    input_sequences = np.array(pad_sequences(input_sequences, maxlen=max_sequence_len, padding='pre'))\n",
    "    \n",
    "    predictors, label = input_sequences[:,:-1],input_sequences[:,-1]\n",
    "    label = ku.to_categorical(label, num_classes=total_words)\n",
    "    return predictors, label, max_sequence_len\n",
    "\n",
    "predictors, label, max_sequence_len = generate_padded_sequences(inp_sequences)\n",
    "\n",
    "def create_model(max_sequence_len, total_words):\n",
    "    input_len = max_sequence_len - 1\n",
    "    model = Sequential()\n",
    "    \n",
    "    # Add Input Embedding Layer\n",
    "    model.add(Embedding(total_words, 10, input_length=input_len))\n",
    "    \n",
    "    # Add Hidden Layer 1 - LSTM Layer\n",
    "    model.add(LSTM(100))\n",
    "    model.add(Dropout(0.1))\n",
    "    \n",
    "    # Add Output Layer\n",
    "    model.add(Dense(total_words, activation='softmax'))\n",
    "\n",
    "    model.compile(loss='categorical_crossentropy', optimizer='adam')\n",
    "    \n",
    "    return model\n",
    "\n",
    "model = create_model(max_sequence_len, total_words)\n",
    "print(max_sequence_len)\n",
    "model.summary()\n"
   ]
  },
  {
   "cell_type": "code",
   "execution_count": 13,
   "metadata": {},
   "outputs": [
    {
     "name": "stdout",
     "output_type": "stream",
     "text": [
      "Epoch 1/100\n",
      "Epoch 2/100\n",
      "Epoch 3/100\n",
      "Epoch 4/100\n",
      "Epoch 5/100\n",
      "Epoch 6/100\n",
      "Epoch 7/100\n",
      "Epoch 8/100\n",
      "Epoch 9/100\n",
      "Epoch 10/100\n",
      "Epoch 11/100\n",
      "Epoch 12/100\n",
      "Epoch 13/100\n",
      "Epoch 14/100\n",
      "Epoch 15/100\n",
      "Epoch 16/100\n",
      "Epoch 17/100\n",
      "Epoch 18/100\n",
      "Epoch 19/100\n",
      "Epoch 20/100\n",
      "Epoch 21/100\n",
      "Epoch 22/100\n",
      "Epoch 23/100\n",
      "Epoch 24/100\n",
      "Epoch 25/100\n",
      "Epoch 26/100\n",
      "Epoch 27/100\n",
      "Epoch 28/100\n",
      "Epoch 29/100\n",
      "Epoch 30/100\n",
      "Epoch 31/100\n",
      "Epoch 32/100\n",
      "Epoch 33/100\n",
      "Epoch 34/100\n",
      "Epoch 35/100\n",
      "Epoch 36/100\n",
      "Epoch 37/100\n",
      "Epoch 38/100\n",
      "Epoch 39/100\n",
      "Epoch 40/100\n",
      "Epoch 41/100\n",
      "Epoch 42/100\n",
      "Epoch 43/100\n",
      "Epoch 44/100\n",
      "Epoch 45/100\n",
      "Epoch 46/100\n",
      "Epoch 47/100\n",
      "Epoch 48/100\n",
      "Epoch 49/100\n",
      "Epoch 50/100\n",
      "Epoch 51/100\n",
      "Epoch 52/100\n",
      "Epoch 53/100\n",
      "Epoch 54/100\n",
      "Epoch 55/100\n",
      "Epoch 56/100\n",
      "Epoch 57/100\n",
      "Epoch 58/100\n",
      "Epoch 59/100\n",
      "Epoch 60/100\n",
      "Epoch 61/100\n",
      "Epoch 62/100\n",
      "Epoch 63/100\n",
      "Epoch 64/100\n",
      "Epoch 65/100\n",
      "Epoch 66/100\n",
      "Epoch 67/100\n",
      "Epoch 68/100\n",
      "Epoch 69/100\n",
      "Epoch 70/100\n",
      "Epoch 71/100\n",
      "Epoch 72/100\n",
      "Epoch 73/100\n",
      "Epoch 74/100\n",
      "Epoch 75/100\n",
      "Epoch 76/100\n",
      "Epoch 77/100\n",
      "Epoch 78/100\n",
      "Epoch 79/100\n",
      "Epoch 80/100\n",
      "Epoch 81/100\n",
      "Epoch 82/100\n",
      "Epoch 83/100\n",
      "Epoch 84/100\n",
      "Epoch 85/100\n",
      "Epoch 86/100\n",
      "Epoch 87/100\n",
      "Epoch 88/100\n",
      "Epoch 89/100\n",
      "Epoch 90/100\n",
      "Epoch 91/100\n",
      "Epoch 92/100\n",
      "Epoch 93/100\n",
      "Epoch 94/100\n",
      "Epoch 95/100\n",
      "Epoch 96/100\n",
      "Epoch 97/100\n",
      "Epoch 98/100\n",
      "Epoch 99/100\n",
      "Epoch 100/100\n"
     ]
    }
   ],
   "source": [
    "history=model.fit(predictors, label, epochs=100, verbose=5)\n",
    "model.save(\"model9021.h5\")"
   ]
  },
  {
   "cell_type": "code",
   "execution_count": 5,
   "metadata": {},
   "outputs": [],
   "source": [
    "from keras.models import load_model\n",
    "loaded_model = load_model(\"model9021.h5\")"
   ]
  },
  {
   "cell_type": "code",
   "execution_count": 39,
   "metadata": {},
   "outputs": [],
   "source": [
    "def generate_text(seed_text, next_words, model, max_sequence_len):\n",
    "    for _ in range(next_words):\n",
    "        token_list = tokenizer.texts_to_sequences([seed_text])[0]\n",
    "        token_list = pad_sequences([token_list], maxlen=max_sequence_len-1, padding='pre')\n",
    "        predicted_probs = model.predict(token_list, verbose=0)\n",
    "        predicted = np.argmax(predicted_probs)\n",
    "        \n",
    "        output_word = \"\"\n",
    "        for word, index in tokenizer.word_index.items():\n",
    "            if index == predicted:\n",
    "                output_word = word\n",
    "                break\n",
    "        seed_text=str.capitalize(seed_text)\n",
    "        seed_text += \" \" + output_word\n",
    "        \n",
    "    seed_text+=\".\"\n",
    "    return seed_text"
   ]
  },
  {
   "cell_type": "code",
   "execution_count": 40,
   "metadata": {},
   "outputs": [
    {
     "name": "stdout",
     "output_type": "stream",
     "text": [
      "Kanada tren arsası şüphelileri suçlamaları reddetti.\n",
      "Polis şüphelinin nasıl yakalandığını doğruladı var.\n",
      "Piyano çalan bir adam ağacın altındaki taburede oturuyor.\n",
      "Benzin istasyonlarının dışında uzun kuyruklar oluştu.\n",
      "Benzer tasarılar iki kez meclis'ten geçti.\n",
      "Kuş dalda oturuyor.\n",
      "Adam gitar çalıyor ve şarkı söylüyor.\n"
     ]
    }
   ],
   "source": [
    "print (generate_text(\"kanada\", 5, loaded_model, max_sequence_len))\n",
    "print (generate_text(\"polis\", 5, loaded_model, max_sequence_len))\n",
    "print (generate_text(\"piyano\", 7, loaded_model, max_sequence_len))\n",
    "print (generate_text(\"benzin\", 5, loaded_model, max_sequence_len))\n",
    "print (generate_text(\"benzer\", 5, loaded_model, max_sequence_len))\n",
    "print (generate_text(\"kuş\", 2, loaded_model, max_sequence_len))\n",
    "print (generate_text(\"adam\", 5, loaded_model, max_sequence_len))\n"
   ]
  }
 ],
 "metadata": {
  "kernelspec": {
   "display_name": "pt",
   "language": "python",
   "name": "python3"
  },
  "language_info": {
   "codemirror_mode": {
    "name": "ipython",
    "version": 3
   },
   "file_extension": ".py",
   "mimetype": "text/x-python",
   "name": "python",
   "nbconvert_exporter": "python",
   "pygments_lexer": "ipython3",
   "version": "3.10.13"
  }
 },
 "nbformat": 4,
 "nbformat_minor": 2
}
